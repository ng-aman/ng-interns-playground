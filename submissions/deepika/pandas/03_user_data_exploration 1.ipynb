{
 "cells": [
  {
   "cell_type": "markdown",
   "metadata": {},
   "source": [
    "### Import the necessary libraries"
   ]
  },
  {
   "cell_type": "code",
   "execution_count": 1,
   "metadata": {},
   "outputs": [],
   "source": [
    "import pandas as pd"
   ]
  },
  {
   "cell_type": "markdown",
   "metadata": {},
   "source": [
    "### Load user.csv and assign it to a variable called users and use the 'user_id' as index"
   ]
  },
  {
   "cell_type": "code",
   "execution_count": null,
   "metadata": {},
   "outputs": [],
   "source": []
  },
  {
   "cell_type": "markdown",
   "metadata": {},
   "source": [
    "Question 1:\n",
    "What are the first 25 entries in the users DataFrame, and what columns are included?\n",
    "\n",
    "Question 2:\n",
    "What are the last 10 entries in the users DataFrame, and what columns are included?\n",
    "\n",
    "Question 3:\n",
    "How many observations are there in the users dataset?\n",
    "\n",
    "Question 4:\n",
    "How many columns are there in the users dataset?\n",
    "\n",
    "Question 5:\n",
    "What are the names of all the columns in the users dataset?\n",
    "\n",
    "Question 6:\n",
    "How is the users dataset indexed?\n",
    "\n",
    "Question 7:\n",
    "What is the data type of each column in the users dataset?\n",
    "\n",
    "Question 8:\n",
    "Print only the 'occupation' column from the users dataset.\n",
    "\n",
    "Question 9:\n",
    "How many different occupations are present in the users dataset?\n",
    "\n",
    "Question 10:\n",
    "What is the most frequent occupation in the users dataset?\n",
    "\n",
    "Question 11:\n",
    "Summarize the 'age' column in the users dataset.\n",
    "\n",
    "Question 12:\n",
    "Summarize all the columns in the users dataset.\n",
    "\n",
    "Question 13:\n",
    "Summarize only the 'occupation' column in the users dataset.\n",
    "\n",
    "Question 14:\n",
    "What is the mean age of users in the users dataset?\n",
    "\n",
    "Question 15:\n",
    "What is the age with the least occurrence in the users dataset?"
   ]
  },
  {
   "cell_type": "code",
   "execution_count": null,
   "metadata": {},
   "outputs": [],
   "source": []
  }
 ],
 "metadata": {
  "anaconda-cloud": {},
  "kernelspec": {
   "display_name": "Python 3 (ipykernel)",
   "language": "python",
   "name": "python3"
  },
  "language_info": {
   "codemirror_mode": {
    "name": "ipython",
    "version": 3
   },
   "file_extension": ".py",
   "mimetype": "text/x-python",
   "name": "python",
   "nbconvert_exporter": "python",
   "pygments_lexer": "ipython3",
   "version": "3.9.18"
  }
 },
 "nbformat": 4,
 "nbformat_minor": 1
}
