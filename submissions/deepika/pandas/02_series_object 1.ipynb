{
 "cells": [
  {
   "cell_type": "markdown",
   "metadata": {},
   "source": [
    "## Overview of a Series"
   ]
  },
  {
   "cell_type": "code",
   "execution_count": 1,
   "metadata": {},
   "outputs": [],
   "source": [
    "import pandas as pd\n",
    "import numpy as np"
   ]
  },
  {
   "cell_type": "markdown",
   "metadata": {},
   "source": [
    "### Create and empty series and assign it to empty"
   ]
  },
  {
   "cell_type": "code",
   "execution_count": 3,
   "metadata": {},
   "outputs": [],
   "source": [
    "empty = pd.Series()"
   ]
  },
  {
   "cell_type": "markdown",
   "metadata": {},
   "source": [
    "### Create a series with list"
   ]
  },
  {
   "cell_type": "code",
   "execution_count": 5,
   "metadata": {},
   "outputs": [],
   "source": [
    "ice_cream_flavors = [\"Chocolate\", \"Vanilla\", \"Strawberry\", \"Rum Raisin\"]"
   ]
  },
  {
   "cell_type": "code",
   "execution_count": 7,
   "metadata": {},
   "outputs": [
    {
     "data": {
      "text/plain": [
       "0     Chocolate\n",
       "1       Vanilla\n",
       "2    Strawberry\n",
       "3    Rum Raisin\n",
       "dtype: object"
      ]
     },
     "execution_count": 7,
     "metadata": {},
     "output_type": "execute_result"
    }
   ],
   "source": [
    "empty = pd.Series(data=ice_cream_flavors)\n",
    "empty"
   ]
  },
  {
   "cell_type": "markdown",
   "metadata": {},
   "source": [
    "### Set days of week as Series Index"
   ]
  },
  {
   "cell_type": "code",
   "execution_count": 9,
   "metadata": {},
   "outputs": [],
   "source": [
    "days_of_week = (\"Monday\", \"Wednesday\", \"Friday\", \"Saturday\")"
   ]
  },
  {
   "cell_type": "code",
   "execution_count": 11,
   "metadata": {},
   "outputs": [
    {
     "data": {
      "text/plain": [
       "Monday        Chocolate\n",
       "Wednesday       Vanilla\n",
       "Friday       Strawberry\n",
       "Saturday     Rum Raisin\n",
       "dtype: object"
      ]
     },
     "execution_count": 11,
     "metadata": {},
     "output_type": "execute_result"
    }
   ],
   "source": [
    "empty = pd.Series(data=ice_cream_flavors,index=days_of_week)\n",
    "empty"
   ]
  },
  {
   "cell_type": "markdown",
   "metadata": {},
   "source": [
    "### Convert bunch of booleans to series"
   ]
  },
  {
   "cell_type": "code",
   "execution_count": 12,
   "metadata": {},
   "outputs": [
    {
     "data": {
      "text/plain": [
       "0     True\n",
       "1    False\n",
       "2    False\n",
       "dtype: bool"
      ]
     },
     "execution_count": 12,
     "metadata": {},
     "output_type": "execute_result"
    }
   ],
   "source": [
    "bunch_of_bools = [True, False, False]\n",
    "pd.Series(bunch_of_bools)"
   ]
  },
  {
   "cell_type": "markdown",
   "metadata": {},
   "source": [
    "### Set Time of day as index and stock prices as series"
   ]
  },
  {
   "cell_type": "code",
   "execution_count": 5,
   "metadata": {},
   "outputs": [],
   "source": [
    "stock_prices = [985.32, 950.44]\n",
    "time_of_day = [\"Open\", \"Close\"]\n"
   ]
  },
  {
   "cell_type": "markdown",
   "metadata": {},
   "source": [
    "### Convert list of numbers to series"
   ]
  },
  {
   "cell_type": "code",
   "execution_count": 6,
   "metadata": {},
   "outputs": [],
   "source": [
    "lucky_numbers = [4, 8, 15, 16, 23, 42]"
   ]
  },
  {
   "cell_type": "code",
   "execution_count": 7,
   "metadata": {},
   "outputs": [],
   "source": [
    "lucky_numbers = [4, 8, 15, 16, 23, 42]"
   ]
  },
  {
   "cell_type": "markdown",
   "metadata": {},
   "source": [
    "### Create a Series with Missing Values"
   ]
  },
  {
   "cell_type": "code",
   "execution_count": 8,
   "metadata": {},
   "outputs": [],
   "source": [
    "temperatures = [94, 88, np.nan, 91]"
   ]
  },
  {
   "cell_type": "markdown",
   "metadata": {},
   "source": [
    "### Create a Series from Python Objects"
   ]
  },
  {
   "cell_type": "code",
   "execution_count": 9,
   "metadata": {},
   "outputs": [],
   "source": [
    "calorie_info = { \"Cereal\": 125,\"Chocolate Bar\": 406, \"Ice Cream Sundae\": 342}"
   ]
  },
  {
   "cell_type": "code",
   "execution_count": 10,
   "metadata": {},
   "outputs": [],
   "source": [
    "data = (\"Red\", \"Green\", \"Blue\")"
   ]
  },
  {
   "cell_type": "code",
   "execution_count": 11,
   "metadata": {},
   "outputs": [],
   "source": [
    "rgb_colors = [(120, 41, 26), (196, 165, 45)]"
   ]
  },
  {
   "cell_type": "code",
   "execution_count": 12,
   "metadata": {},
   "outputs": [],
   "source": [
    "my_set = {\"Ricky\", \"Bobby\"}\n",
    "# Set is an unordered type so convert it to list"
   ]
  },
  {
   "cell_type": "code",
   "execution_count": 13,
   "metadata": {},
   "outputs": [],
   "source": [
    "random_data = np.random.randint(1, 101, 10)"
   ]
  },
  {
   "cell_type": "markdown",
   "metadata": {},
   "source": [
    "### Series Attributes"
   ]
  },
  {
   "cell_type": "code",
   "execution_count": 14,
   "metadata": {},
   "outputs": [],
   "source": [
    "diet = { \"Cereal\": 125,\"Chocolate Bar\": 406, \"Ice Cream Sundae\": 342}\n",
    "diet = pd.Series(diet)"
   ]
  },
  {
   "cell_type": "markdown",
   "metadata": {},
   "source": [
    "Question 1:\n",
    "What is the type of the values stored in the diet Pandas Series?\n",
    "\n",
    "Question 2:\n",
    "What is the type of the index in the diet Pandas Series?\n",
    "\n",
    "Question 3:\n",
    "How many elements are there in the diet Pandas Series?\n",
    "\n",
    "Question 4:\n",
    "What is the shape of the diet Pandas Series?\n",
    "\n",
    "Question 5:\n",
    "Is the diet Pandas Series unique based on its values?\n",
    "\n",
    "Question 6:\n",
    "Is it possible for a Pandas Series to contain duplicate values? Provide an example.\n",
    "\n",
    "Question 7:\n",
    "Does the Pandas Series diet have a monotonic order based on its values?\n",
    "\n",
    "Question 8:\n",
    "Create a new Pandas Series with data [3, 3] and check if it is unique.\n",
    "\n",
    "Question 9:\n",
    "Create a new Pandas Series with data [1, 3, 6] and check if it is monotonic.\n",
    "\n",
    "Question 10:\n",
    "Create another Pandas Series with data [1, 6, 3] and check if it is monotonic."
   ]
  },
  {
   "cell_type": "markdown",
   "metadata": {},
   "source": [
    "### Retrieving the First 3 and Last 3 Rows"
   ]
  },
  {
   "cell_type": "code",
   "execution_count": 15,
   "metadata": {},
   "outputs": [
    {
     "data": {
      "text/plain": [
       "0       0\n",
       "1       5\n",
       "2      10\n",
       "3      15\n",
       "4      20\n",
       "     ... \n",
       "95    475\n",
       "96    480\n",
       "97    485\n",
       "98    490\n",
       "99    495\n",
       "Length: 100, dtype: int64"
      ]
     },
     "execution_count": 15,
     "metadata": {},
     "output_type": "execute_result"
    }
   ],
   "source": [
    "values = range(0, 500, 5)\n",
    "nums = pd.Series(data = values)\n",
    "nums"
   ]
  },
  {
   "cell_type": "markdown",
   "metadata": {},
   "source": [
    "### Mathematical Operations"
   ]
  },
  {
   "cell_type": "markdown",
   "metadata": {},
   "source": [
    "### Statistical Operations"
   ]
  },
  {
   "cell_type": "code",
   "execution_count": 16,
   "metadata": {},
   "outputs": [
    {
     "data": {
      "text/plain": [
       "0    1.0\n",
       "1    2.0\n",
       "2    3.0\n",
       "3    NaN\n",
       "4    4.0\n",
       "5    5.0\n",
       "dtype: float64"
      ]
     },
     "execution_count": 16,
     "metadata": {},
     "output_type": "execute_result"
    }
   ],
   "source": [
    "numbers = pd.Series([1, 2, 3, np.nan, 4, 5])\n",
    "numbers"
   ]
  },
  {
   "cell_type": "markdown",
   "metadata": {},
   "source": [
    "Question 1:\n",
    "What is the count of non-NaN values in the numbers series?\n",
    "\n",
    "Question 2:\n",
    "What is the sum of all values in the numbers series?\n",
    "\n",
    "Question 3:\n",
    "What is the product of all values in the numbers series?\n",
    "\n",
    "Question 4:\n",
    "What is the cumulative sum of the numbers series, and how does it change when including NaN values?\n",
    "\n",
    "Question 5:\n",
    "What is the percentage change between consecutive elements in the numbers series?\n",
    "\n",
    "Question 6:\n",
    "How does the pct_change() method behave with different fill_method values?\n",
    "\n",
    "Question 7:\n",
    "What is the mean, median, and standard deviation of the values in the numbers series?\n",
    "\n",
    "Question 8:\n",
    "What is the maximum and minimum value in the numbers series?\n",
    "\n",
    "Question 9:\n",
    "What information does the count value in the describe() output provide about the numbers series?"
   ]
  },
  {
   "cell_type": "code",
   "execution_count": 17,
   "metadata": {},
   "outputs": [
    {
     "data": {
      "text/plain": [
       "0       koala\n",
       "1    aardvark\n",
       "2       zebra\n",
       "dtype: object"
      ]
     },
     "execution_count": 17,
     "metadata": {},
     "output_type": "execute_result"
    }
   ],
   "source": [
    "animals = pd.Series([\"koala\", \"aardvark\", \"zebra\"])\n",
    "animals"
   ]
  },
  {
   "cell_type": "markdown",
   "metadata": {},
   "source": [
    "Question 1:\n",
    "How many elements are there in the animals series?\n",
    "\n",
    "Question 2:\n",
    "What are the unique elements in the animals series?\n",
    "\n",
    "Question 3:\n",
    "What is the maximum value in the animals series?\n",
    "\n",
    "Question 4:\n",
    "What is the minimum value in the animals series?\n",
    "\n",
    "Question 5:\n",
    "What is the length of the longest string in the animals series?\n",
    "\n",
    "Question 6:\n",
    "Create a new series with the lengths of each string in the animals series. What is the maximum length?\n",
    "\n",
    "Question 7:\n",
    "Create a new series with the first letter of each string in the animals series. What is the maximum and minimum letter based on their ASCII values?\n",
    "\n",
    "Question 8:\n",
    "Are all elements in the animals series unique?"
   ]
  },
  {
   "cell_type": "markdown",
   "metadata": {},
   "source": [
    "###  Arithmetic Operations"
   ]
  },
  {
   "cell_type": "code",
   "execution_count": 18,
   "metadata": {},
   "outputs": [
    {
     "data": {
      "text/plain": [
       "A     5.0\n",
       "B     NaN\n",
       "C    15.0\n",
       "dtype: float64"
      ]
     },
     "execution_count": 18,
     "metadata": {},
     "output_type": "execute_result"
    }
   ],
   "source": [
    "s1 = pd.Series(data = [5, np.nan, 15], index = [\"A\", \"B\", \"C\"])\n",
    "s1"
   ]
  },
  {
   "cell_type": "markdown",
   "metadata": {},
   "source": [
    "Question 1:\n",
    "What are the original values and index of the s1 series?\n",
    "\n",
    "Question 2:\n",
    "What is the result of adding 3 to each element of the s1 series?\n",
    "\n",
    "Question 3:\n",
    "How can you achieve the same result as s1 + 3 using the add() method?\n",
    "\n",
    "Question 4:\n",
    "What is the result of subtracting 5 from each element of the s1 series?\n",
    "\n",
    "Question 5:\n",
    "How can you achieve the same result as s1 - 5 using the sub() and subtract() methods?\n",
    "\n",
    "Question 6:\n",
    "What is the result of multiplying each element of the s1 series by 2?\n",
    "\n",
    "Question 7:\n",
    "How can you achieve the same result as s1 * 2 using the mul() and multiply() methods?\n",
    "\n",
    "Question 8:\n",
    "What is the result of dividing each element of the s1 series by 2?\n",
    "\n",
    "Question 9:\n",
    "How can you achieve the same result as s1 / 2 using the div() and divide() methods?\n",
    "\n",
    "Question 10:\n",
    "What is the result of performing integer division (floor division) of each element of the s1 series by 4?\n",
    "\n",
    "Question 11:\n",
    "How can you achieve the same result as s1 // 4 using the floordiv() method?\n",
    "\n",
    "Question 12:\n",
    "What is the result of taking the remainder when each element of the s1 series is divided by 3?\n",
    "\n",
    "Question 13:\n",
    "How can you achieve the same result as s1 % 3 using the mod() method?"
   ]
  },
  {
   "cell_type": "markdown",
   "metadata": {},
   "source": [
    "###  Broadcasting"
   ]
  },
  {
   "cell_type": "code",
   "execution_count": 19,
   "metadata": {},
   "outputs": [],
   "source": [
    "s1 = pd.Series([1, 2, 3], index = [\"A\", \"B\", \"C\"])\n",
    "s2 = pd.Series([4, 5, 6], index = [\"A\", \"B\", \"C\"])"
   ]
  },
  {
   "cell_type": "markdown",
   "metadata": {},
   "source": [
    "Question 1:\n",
    "What are the original values and indices of the s1 and s2 series?\n",
    "\n",
    "Question 2:\n",
    "What is the result of adding the values of s1 and s2 element-wise?\n",
    "\n",
    "Question 3:\n",
    "How can you achieve the same result as s1 + s2 using the add() method?\n",
    "\n",
    "Question 4:\n",
    "What are the results of comparing each element of s1 with the corresponding element of s2 using the equality operator (==)?\n",
    "\n",
    "Question 5:\n",
    "How can you achieve the same result as s1 == s2 using the eq() method?\n",
    "\n",
    "Question 6:\n",
    "What are the results of comparing each element of s1 with the corresponding element of s2 using the inequality operator (!=)?\n",
    "\n",
    "Question 7:\n",
    "How can you achieve the same result as s1 != s2 using the ne() method?\n",
    "\n",
    "Question 8:\n",
    "What are the values and indices of s1 + s2 when the two series have different indices?\n",
    "\n",
    "Question 9:\n",
    "How does Pandas handle addition between two series with different indices?\n",
    "\n",
    "Question 10:\n",
    "How can you modify the addition operation to handle NaN values more gracefully when the series have different indices?"
   ]
  },
  {
   "cell_type": "markdown",
   "metadata": {},
   "source": [
    "### Passing the Series to Python's Built-In Functions"
   ]
  },
  {
   "cell_type": "code",
   "execution_count": 20,
   "metadata": {},
   "outputs": [],
   "source": [
    "cities = pd.Series(\n",
    "    data = [\"San Francisco\", \"Los Angeles\", \"Las  Vegas\", np.nan]\n",
    ")"
   ]
  },
  {
   "cell_type": "markdown",
   "metadata": {},
   "source": [
    "Question 1:\n",
    "How many elements are there in the cities series?\n",
    "\n",
    "Question 2:\n",
    "What is the type of the cities series?\n",
    "\n",
    "Question 3:\n",
    "What is the data type of the elements in the cities series?\n",
    "\n",
    "Question 4:\n",
    "How can you determine the available methods and attributes of the cities series?\n",
    "\n",
    "Question 5:\n",
    "Can you find the first element in the cities series?\n",
    "\n",
    "Question 6:\n",
    "How would you check if there are any missing (NaN) values in the cities series?\n",
    "\n",
    "Question 7:\n",
    "If you wanted to convert all the elements in the cities series to lowercase, what method would you use?\n",
    "\n",
    "Question 8:\n",
    "How can you obtain a summary of basic statistics for the cities series, such as count, unique values, and frequency of the most common value?\n",
    "\n",
    "Question 9:\n",
    "Is it possible to access the second element of the cities series using both index-based and label-based indexing?\n",
    "\n",
    "Question 10:\n",
    "If you wanted to remove any missing (NaN) values from the cities series, what method would you use?\n",
    "\n",
    "Question 11:\n",
    "How would you check if a specific city, for example, \"Los Angeles,\" is present in the cities series?\n",
    "\n",
    "Question 12:\n",
    "If you wanted to add a new city, \"New York,\" to the cities series, how would you do it?\n",
    "\n",
    "Question 13:\n",
    "How can you convert the cities series to a Python list?\n",
    "\n",
    "Question 14:\n",
    "What is the result of converting the cities series to a dictionary? How are the indices represented?\n",
    "\n",
    "Question 15:\n",
    "How can you check if \"Las Vegas\" is present in the cities series using the in operator?\n",
    "\n",
    "Question 16:\n",
    "What is the result of checking if the index value 2 is present in the cities series using the in operator?\n",
    "\n",
    "Question 17:\n",
    "How can you check if the value \"Las Vegas\" is present in the values of the cities series?\n",
    "\n",
    "Question 18:\n",
    "What is the result of checking if the value 100 is not present in the cities series using the not in operator?\n",
    "\n",
    "Question 19:\n",
    "How can you check if the value \"Paris\" is not present in the values of the cities series?\n",
    "\n",
    "Question 20:\n",
    "How would you access the second element of the cities series using index-based and label-based indexing?"
   ]
  },
  {
   "cell_type": "code",
   "execution_count": 21,
   "metadata": {},
   "outputs": [],
   "source": [
    "superheroes = [\n",
    "    \"Batman\",\n",
    "    \"Superman\",\n",
    "    \"Spider-Man\",\n",
    "    \"Iron Man\",\n",
    "    \"Captain America\",\n",
    "    \"Wonder Woman\"\n",
    "]"
   ]
  },
  {
   "cell_type": "code",
   "execution_count": 22,
   "metadata": {},
   "outputs": [],
   "source": [
    "strength_levels = (100, 120, 90, 95, 110, 120)"
   ]
  },
  {
   "cell_type": "code",
   "execution_count": 23,
   "metadata": {},
   "outputs": [
    {
     "data": {
      "text/plain": [
       "Batman             100\n",
       "Superman           120\n",
       "Spider-Man          90\n",
       "Iron Man            95\n",
       "Captain America    110\n",
       "Wonder Woman       120\n",
       "dtype: int64"
      ]
     },
     "execution_count": 23,
     "metadata": {},
     "output_type": "execute_result"
    }
   ],
   "source": [
    "heroes = pd.Series(\n",
    "    data = strength_levels, index = superheroes\n",
    ")\n",
    "\n",
    "heroes"
   ]
  },
  {
   "cell_type": "markdown",
   "metadata": {},
   "source": [
    "Question 1:\n",
    "What are the superheroes and their corresponding strength levels in the heroes series?\n",
    "\n",
    "Question 2:\n",
    "How can you access the first two elements of the heroes series?\n",
    "\n",
    "Question 3:\n",
    "How can you access the last four elements of the heroes series?\n",
    "\n",
    "Question 4:\n",
    "How many unique strength levels are there in the heroes series?\n",
    "\n",
    "Question 5:\n",
    "What is the mean strength level of the superheroes in the heroes series?\n",
    "\n",
    "Question 6:\n",
    "Who is the superhero with the maximum strength level in the heroes series?\n",
    "\n",
    "Question 7:\n",
    "Who is the superhero with the minimum strength level in the heroes series?\n",
    "\n",
    "Question 8:\n",
    "What is the result of doubling the strength levels of each superhero in the heroes series?\n",
    "\n",
    "Question 9:\n",
    "How can you convert the heroes series to a dictionary?\n",
    "\n",
    "Question 10:\n",
    "How would you check if Spider-Man is present in the index of the heroes series?\n",
    "\n",
    "Question 11:\n",
    "How can you check if the strength level of Wonder Woman is present in the values of the heroes series?"
   ]
  },
  {
   "cell_type": "code",
   "execution_count": null,
   "metadata": {},
   "outputs": [],
   "source": []
  }
 ],
 "metadata": {
  "kernelspec": {
   "display_name": "Python 3 (ipykernel)",
   "language": "python",
   "name": "python3"
  },
  "language_info": {
   "codemirror_mode": {
    "name": "ipython",
    "version": 3
   },
   "file_extension": ".py",
   "mimetype": "text/x-python",
   "name": "python",
   "nbconvert_exporter": "python",
   "pygments_lexer": "ipython3",
   "version": "3.10.9"
  }
 },
 "nbformat": 4,
 "nbformat_minor": 2
}
