{
 "cells": [
  {
   "cell_type": "markdown",
   "metadata": {},
   "source": [
    "###  Import the necessary libraries"
   ]
  },
  {
   "cell_type": "code",
   "execution_count": 2,
   "metadata": {},
   "outputs": [],
   "source": [
    "import pandas as pd\n",
    "import numpy as np"
   ]
  },
  {
   "cell_type": "markdown",
   "metadata": {},
   "source": [
    "### Import the dataset chipotle.tsv and assign it to a variable called chipo."
   ]
  },
  {
   "cell_type": "code",
   "execution_count": null,
   "metadata": {},
   "outputs": [],
   "source": []
  },
  {
   "cell_type": "markdown",
   "metadata": {},
   "source": [
    "Question 1:\n",
    "How many observations are there in the chipo dataset?\n",
    "\n",
    "Question 2:\n",
    "What is the information about the data types and missing values in the chipo dataset?\n",
    "\n",
    "Question 3:\n",
    "How many columns are there in the chipo dataset?\n",
    "\n",
    "Question 4:\n",
    "What are the names of all the columns in the chipo dataset?\n",
    "\n",
    "Question 5:\n",
    "How is the chipo dataset indexed?\n",
    "\n",
    "Question 6:\n",
    "Which item was the most-ordered in the item_name column?\n",
    "\n",
    "Question 7:\n",
    "For the most-ordered item, how many items were ordered?\n",
    "\n",
    "Question 8:\n",
    "What was the most ordered item in the choice_description column?\n",
    "\n",
    "Question 9:\n",
    "How many items were ordered in total?\n",
    "\n",
    "Question 10:\n",
    "What is the data type of the item_price column?\n",
    "\n",
    "Question 11:\n",
    "How can you turn the item_price column into a float?\n",
    "\n",
    "Question 12:\n",
    "How much was the total revenue for the period in the dataset?\n",
    "\n",
    "Question 13:\n",
    "How many orders were made in the period?\n",
    "\n",
    "Question 14:\n",
    "What is the average revenue amount per order? (Two possible solutions are provided)\n",
    "\n",
    "Question 15:\n",
    "How many different items are sold?"
   ]
  }
 ],
 "metadata": {
  "anaconda-cloud": {},
  "kernelspec": {
   "display_name": "Python 3 (ipykernel)",
   "language": "python",
   "name": "python3"
  },
  "language_info": {
   "codemirror_mode": {
    "name": "ipython",
    "version": 3
   },
   "file_extension": ".py",
   "mimetype": "text/x-python",
   "name": "python",
   "nbconvert_exporter": "python",
   "pygments_lexer": "ipython3",
   "version": "3.9.18"
  }
 },
 "nbformat": 4,
 "nbformat_minor": 1
}
