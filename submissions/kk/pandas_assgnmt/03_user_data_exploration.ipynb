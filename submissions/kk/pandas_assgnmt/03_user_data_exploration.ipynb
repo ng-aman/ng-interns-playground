{
 "cells": [
  {
   "cell_type": "markdown",
   "metadata": {},
   "source": [
    "### Import the necessary libraries"
   ]
  },
  {
   "cell_type": "code",
   "execution_count": 2,
   "metadata": {},
   "outputs": [],
   "source": [
    "import pandas as pd"
   ]
  },
  {
   "cell_type": "markdown",
   "metadata": {},
   "source": [
    "### Load user.csv and assign it to a variable called users and use the 'user_id' as index"
   ]
  },
  {
   "cell_type": "code",
   "execution_count": 11,
   "metadata": {},
   "outputs": [],
   "source": [
    "user = pd.read_csv('C:\\\\Users\\\\MohammedKareemKhan\\\\Desktop\\\\pandas assgnmt\\\\user 1.csv',sep='|',index_col='user_id',\n",
    "            names=['user_id','age','gender','occupation','salary'])"
   ]
  },
  {
   "cell_type": "markdown",
   "metadata": {},
   "source": [
    "Question 1:\n",
    "What are the first 25 entries in the users DataFrame, and what columns are included?\n",
    "\n",
    "Question 2:\n",
    "What are the last 10 entries in the users DataFrame, and what columns are included?\n",
    "\n",
    "Question 3:\n",
    "How many observations are there in the users dataset?\n",
    "\n",
    "Question 4:\n",
    "How many columns are there in the users dataset?\n",
    "\n",
    "Question 5:\n",
    "What are the names of all the columns in the users dataset?\n",
    "\n",
    "Question 6:\n",
    "How is the users dataset indexed?\n",
    "\n",
    "Question 7:\n",
    "What is the data type of each column in the users dataset?\n",
    "\n",
    "Question 8:\n",
    "Print only the 'occupation' column from the users dataset.\n",
    "\n",
    "Question 9:\n",
    "How many different occupations are present in the users dataset?\n",
    "\n",
    "Question 10:\n",
    "What is the most frequent occupation in the users dataset?\n",
    "\n",
    "Question 11:\n",
    "Summarize the 'age' column in the users dataset.\n",
    "\n",
    "Question 12:\n",
    "Summarize all the columns in the users dataset.\n",
    "\n",
    "Question 13:\n",
    "Summarize only the 'occupation' column in the users dataset.\n",
    "\n",
    "Question 14:\n",
    "What is the mean age of users in the users dataset?\n",
    "\n",
    "Question 15:\n",
    "What is the age with the least occurrence in the users dataset?"
   ]
  },
  {
   "cell_type": "code",
   "execution_count": 15,
   "metadata": {},
   "outputs": [
    {
     "name": "stdout",
     "output_type": "stream",
     "text": [
      "         age gender     occupation salary\n",
      "user_id                                  \n",
      "1         24      M     technician  85711\n",
      "2         53      F          other  94043\n",
      "3         23      M         writer  32067\n",
      "4         24      M     technician  43537\n",
      "5         33      F          other  15213\n",
      "6         42      M      executive  98101\n",
      "7         57      M  administrator  91344\n",
      "8         36      M  administrator  05201\n",
      "9         29      M        student  01002\n",
      "10        53      M         lawyer  90703\n",
      "11        39      F          other  30329\n",
      "12        28      F          other  06405\n",
      "13        47      M       educator  29206\n",
      "14        45      M      scientist  55106\n",
      "15        49      F       educator  97301\n",
      "16        21      M  entertainment  10309\n",
      "17        30      M     programmer  06355\n",
      "18        35      F          other  37212\n",
      "19        40      M      librarian  02138\n",
      "20        42      F      homemaker  95660\n",
      "21        26      M         writer  30068\n",
      "22        25      M         writer  40206\n",
      "23        30      F         artist  48197\n",
      "24        21      F         artist  94533\n",
      "25        39      M       engineer  55107\n",
      "columns: Index(['age', 'gender', 'occupation', 'salary'], dtype='object')\n"
     ]
    }
   ],
   "source": [
    "#1\n",
    "print(user.head(25))\n",
    "print('columns:',user.head(25).columns)"
   ]
  },
  {
   "cell_type": "code",
   "execution_count": 16,
   "metadata": {},
   "outputs": [
    {
     "name": "stdout",
     "output_type": "stream",
     "text": [
      "         age gender     occupation salary\n",
      "user_id                                  \n",
      "934       61      M       engineer  22902\n",
      "935       42      M         doctor  66221\n",
      "936       24      M          other  32789\n",
      "937       48      M       educator  98072\n",
      "938       38      F     technician  55038\n",
      "939       26      F        student  33319\n",
      "940       32      M  administrator  02215\n",
      "941       20      M        student  97229\n",
      "942       48      F      librarian  78209\n",
      "943       22      M        student  77841\n",
      "Index(['age', 'gender', 'occupation', 'salary'], dtype='object')\n"
     ]
    }
   ],
   "source": [
    "# What are the last 10 entries in the users DataFrame, and what columns are included?\n",
    "print(user.tail(10))\n",
    "print(user.tail(10).columns)"
   ]
  },
  {
   "cell_type": "code",
   "execution_count": 22,
   "metadata": {},
   "outputs": [
    {
     "name": "stdout",
     "output_type": "stream",
     "text": [
      "number of observations: 943\n"
     ]
    }
   ],
   "source": [
    "# How many observations are there in the users dataset?\n",
    "print('number of observations:',user.shape[0])"
   ]
  },
  {
   "cell_type": "code",
   "execution_count": 21,
   "metadata": {},
   "outputs": [
    {
     "name": "stdout",
     "output_type": "stream",
     "text": [
      "number of columns: 4\n"
     ]
    }
   ],
   "source": [
    "# How many columns are there in the users dataset?\n",
    "print('number of columns:',user.shape[1])"
   ]
  },
  {
   "cell_type": "code",
   "execution_count": 24,
   "metadata": {},
   "outputs": [
    {
     "name": "stdout",
     "output_type": "stream",
     "text": [
      "names of columns:  ['age', 'gender', 'occupation', 'salary']\n"
     ]
    }
   ],
   "source": [
    "# What are the names of all the columns in the users dataset?\n",
    "print('names of columns: ',list(user.columns))"
   ]
  },
  {
   "cell_type": "code",
   "execution_count": 26,
   "metadata": {},
   "outputs": [
    {
     "data": {
      "text/plain": [
       "Index([  1,   2,   3,   4,   5,   6,   7,   8,   9,  10,\n",
       "       ...\n",
       "       934, 935, 936, 937, 938, 939, 940, 941, 942, 943],\n",
       "      dtype='int64', name='user_id', length=943)"
      ]
     },
     "execution_count": 26,
     "metadata": {},
     "output_type": "execute_result"
    }
   ],
   "source": [
    "# How is the users dataset indexed?\n",
    "user.index"
   ]
  },
  {
   "cell_type": "code",
   "execution_count": 29,
   "metadata": {},
   "outputs": [
    {
     "data": {
      "text/plain": [
       "age            int64\n",
       "gender        object\n",
       "occupation    object\n",
       "salary        object\n",
       "dtype: object"
      ]
     },
     "execution_count": 29,
     "metadata": {},
     "output_type": "execute_result"
    }
   ],
   "source": [
    "# What is the data type of each column in the users dataset?\n",
    "user.dtypes"
   ]
  },
  {
   "cell_type": "code",
   "execution_count": 40,
   "metadata": {},
   "outputs": [
    {
     "data": {
      "text/plain": [
       "array(['technician', 'other', 'writer', 'technician', 'other',\n",
       "       'executive', 'administrator', 'administrator', 'student', 'lawyer',\n",
       "       'other', 'other', 'educator', 'scientist', 'educator',\n",
       "       'entertainment', 'programmer', 'other', 'librarian', 'homemaker',\n",
       "       'writer', 'writer', 'artist', 'artist', 'engineer', 'engineer',\n",
       "       'librarian', 'writer', 'programmer', 'student', 'artist',\n",
       "       'student', 'student', 'administrator', 'homemaker', 'student',\n",
       "       'student', 'other', 'entertainment', 'scientist', 'engineer',\n",
       "       'administrator', 'librarian', 'technician', 'programmer',\n",
       "       'marketing', 'marketing', 'administrator', 'student', 'writer',\n",
       "       'educator', 'student', 'programmer', 'executive', 'programmer',\n",
       "       'librarian', 'none', 'programmer', 'educator', 'healthcare',\n",
       "       'engineer', 'administrator', 'marketing', 'educator', 'educator',\n",
       "       'student', 'student', 'student', 'engineer', 'engineer',\n",
       "       'scientist', 'administrator', 'student', 'scientist',\n",
       "       'entertainment', 'student', 'technician', 'administrator',\n",
       "       'administrator', 'administrator', 'student', 'programmer', 'other',\n",
       "       'executive', 'educator', 'administrator', 'administrator',\n",
       "       'librarian', 'administrator', 'educator', 'marketing',\n",
       "       'entertainment', 'executive', 'student', 'administrator', 'artist',\n",
       "       'artist', 'executive', 'student', 'executive', 'student',\n",
       "       'programmer', 'student', 'student', 'engineer', 'retired',\n",
       "       'scientist', 'educator', 'other', 'student', 'engineer',\n",
       "       'salesman', 'executive', 'programmer', 'engineer', 'healthcare',\n",
       "       'student', 'administrator', 'programmer', 'other', 'librarian',\n",
       "       'writer', 'artist', 'student', 'lawyer', 'lawyer', 'none',\n",
       "       'marketing', 'marketing', 'none', 'administrator', 'other',\n",
       "       'engineer', 'programmer', 'student', 'other', 'educator', 'doctor',\n",
       "       'student', 'student', 'programmer', 'other', 'technician',\n",
       "       'programmer', 'entertainment', 'artist', 'librarian', 'engineer',\n",
       "       'marketing', 'artist', 'administrator', 'educator', 'student',\n",
       "       'student', 'other', 'educator', 'engineer', 'educator', 'student',\n",
       "       'programmer', 'lawyer', 'artist', 'administrator', 'healthcare',\n",
       "       'other', 'educator', 'other', 'other', 'other', 'healthcare',\n",
       "       'educator', 'marketing', 'other', 'administrator', 'scientist',\n",
       "       'scientist', 'programmer', 'other', 'entertainment',\n",
       "       'administrator', 'executive', 'programmer', 'scientist',\n",
       "       'librarian', 'librarian', 'executive', 'educator', 'student',\n",
       "       'artist', 'administrator', 'administrator', 'educator', 'student',\n",
       "       'administrator', 'scientist', 'writer', 'technician', 'student',\n",
       "       'writer', 'programmer', 'writer', 'educator', 'student',\n",
       "       'librarian', 'lawyer', 'student', 'marketing', 'engineer',\n",
       "       'educator', 'engineer', 'salesman', 'educator', 'executive',\n",
       "       'librarian', 'programmer', 'engineer', 'other', 'administrator',\n",
       "       'programmer', 'librarian', 'student', 'programmer', 'student',\n",
       "       'educator', 'administrator', 'student', 'executive', 'student',\n",
       "       'librarian', 'student', 'librarian', 'scientist', 'engineer',\n",
       "       'retired', 'educator', 'writer', 'administrator', 'administrator',\n",
       "       'artist', 'educator', 'student', 'educator', 'educator',\n",
       "       'technician', 'student', 'student', 'engineer', 'student',\n",
       "       'student', 'executive', 'doctor', 'engineer', 'librarian',\n",
       "       'educator', 'entertainment', 'none', 'student', 'student',\n",
       "       'student', 'artist', 'administrator', 'student', 'programmer',\n",
       "       'writer', 'executive', 'administrator', 'engineer', 'engineer',\n",
       "       'librarian', 'student', 'engineer', 'scientist', 'other',\n",
       "       'student', 'engineer', 'student', 'administrator', 'librarian',\n",
       "       'programmer', 'librarian', 'student', 'administrator',\n",
       "       'programmer', 'executive', 'programmer', 'student', 'salesman',\n",
       "       'marketing', 'none', 'engineer', 'student', 'programmer', 'writer',\n",
       "       'technician', 'educator', 'administrator', 'educator', 'executive',\n",
       "       'doctor', 'programmer', 'student', 'educator', 'student',\n",
       "       'student', 'programmer', 'other', 'student', 'retired',\n",
       "       'scientist', 'educator', 'technician', 'other', 'marketing',\n",
       "       'student', 'educator', 'other', 'administrator', 'retired',\n",
       "       'programmer', 'student', 'educator', 'student', 'student',\n",
       "       'student', 'technician', 'administrator', 'student',\n",
       "       'administrator', 'educator', 'educator', 'entertainment',\n",
       "       'student', 'other', 'librarian', 'executive', 'salesman',\n",
       "       'scientist', 'librarian', 'lawyer', 'engineer', 'student', 'other',\n",
       "       'engineer', 'librarian', 'librarian', 'other', 'student',\n",
       "       'student', 'retired', 'student', 'educator', 'programmer',\n",
       "       'scientist', 'librarian', 'student', 'homemaker', 'executive',\n",
       "       'educator', 'student', 'other', 'student', 'homemaker', 'student',\n",
       "       'engineer', 'lawyer', 'student', 'student', 'student', 'student',\n",
       "       'writer', 'engineer', 'student', 'other', 'executive',\n",
       "       'entertainment', 'other', 'student', 'student', 'programmer',\n",
       "       'engineer', 'artist', 'engineer', 'administrator', 'programmer',\n",
       "       'writer', 'salesman', 'entertainment', 'other', 'writer', 'writer',\n",
       "       'student', 'writer', 'student', 'administrator', 'other',\n",
       "       'engineer', 'student', 'other', 'other', 'administrator',\n",
       "       'healthcare', 'engineer', 'other', 'programmer', 'healthcare',\n",
       "       'educator', 'engineer', 'student', 'administrator', 'artist',\n",
       "       'educator', 'educator', 'educator', 'programmer', 'educator',\n",
       "       'student', 'other', 'none', 'lawyer', 'educator', 'programmer',\n",
       "       'entertainment', 'other', 'marketing', 'student', 'educator',\n",
       "       'doctor', 'student', 'student', 'scientist', 'marketing',\n",
       "       'entertainment', 'artist', 'student', 'engineer', 'administrator',\n",
       "       'other', 'administrator', 'administrator', 'other', 'technician',\n",
       "       'student', 'salesman', 'lawyer', 'writer', 'educator',\n",
       "       'administrator', 'entertainment', 'librarian', 'educator',\n",
       "       'student', 'administrator', 'student', 'other', 'administrator',\n",
       "       'technician', 'salesman', 'technician', 'student', 'other',\n",
       "       'student', 'student', 'healthcare', 'writer', 'other', 'student',\n",
       "       'engineer', 'engineer', 'educator', 'programmer', 'student',\n",
       "       'student', 'student', 'executive', 'programmer', 'student',\n",
       "       'student', 'other', 'educator', 'retired', 'retired', 'student',\n",
       "       'scientist', 'student', 'educator', 'educator', 'engineer',\n",
       "       'technician', 'other', 'artist', 'writer', 'educator', 'engineer',\n",
       "       'administrator', 'engineer', 'student', 'student', 'writer',\n",
       "       'programmer', 'administrator', 'student', 'student', 'writer',\n",
       "       'writer', 'other', 'programmer', 'writer', 'marketing',\n",
       "       'administrator', 'other', 'student', 'other', 'administrator',\n",
       "       'programmer', 'marketing', 'librarian', 'student', 'writer',\n",
       "       'other', 'healthcare', 'student', 'engineer', 'administrator',\n",
       "       'educator', 'administrator', 'marketing', 'librarian', 'student',\n",
       "       'administrator', 'engineer', 'salesman', 'student', 'librarian',\n",
       "       'student', 'educator', 'engineer', 'engineer', 'scientist',\n",
       "       'administrator', 'engineer', 'student', 'student', 'scientist',\n",
       "       'other', 'technician', 'executive', 'educator', 'writer',\n",
       "       'scientist', 'student', 'programmer', 'other', 'educator',\n",
       "       'scientist', 'educator', 'educator', 'writer', 'writer',\n",
       "       'executive', 'student', 'engineer', 'administrator', 'librarian',\n",
       "       'retired', 'student', 'student', 'entertainment', 'educator',\n",
       "       'educator', 'educator', 'artist', 'educator', 'retired',\n",
       "       'educator', 'marketing', 'executive', 'student', 'administrator',\n",
       "       'educator', 'student', 'other', 'student', 'engineer', 'student',\n",
       "       'librarian', 'student', 'other', 'student', 'lawyer', 'educator',\n",
       "       'librarian', 'student', 'educator', 'educator', 'programmer',\n",
       "       'artist', 'other', 'marketing', 'student', 'programmer', 'artist',\n",
       "       'other', 'programmer', 'educator', 'engineer', 'programmer',\n",
       "       'healthcare', 'other', 'student', 'student', 'librarian',\n",
       "       'educator', 'marketing', 'educator', 'educator', 'scientist',\n",
       "       'writer', 'student', 'student', 'writer', 'student', 'programmer',\n",
       "       'educator', 'student', 'programmer', 'scientist', 'engineer',\n",
       "       'none', 'other', 'healthcare', 'student', 'student', 'programmer',\n",
       "       'engineer', 'other', 'educator', 'other', 'engineer', 'librarian',\n",
       "       'student', 'student', 'student', 'scientist', 'retired',\n",
       "       'programmer', 'student', 'educator', 'engineer', 'student',\n",
       "       'engineer', 'retired', 'other', 'executive', 'student',\n",
       "       'healthcare', 'educator', 'none', 'programmer', 'educator',\n",
       "       'student', 'programmer', 'librarian', 'other', 'engineer',\n",
       "       'administrator', 'administrator', 'librarian', 'writer', 'other',\n",
       "       'technician', 'programmer', 'administrator', 'educator', 'student',\n",
       "       'other', 'programmer', 'other', 'educator', 'student', 'lawyer',\n",
       "       'marketing', 'programmer', 'librarian', 'student', 'librarian',\n",
       "       'educator', 'healthcare', 'administrator', 'other', 'salesman',\n",
       "       'educator', 'engineer', 'healthcare', 'programmer', 'writer',\n",
       "       'other', 'other', 'programmer', 'other', 'student', 'librarian',\n",
       "       'other', 'educator', 'librarian', 'student', 'student',\n",
       "       'librarian', 'homemaker', 'other', 'student', 'student', 'student',\n",
       "       'other', 'engineer', 'technician', 'administrator', 'technician',\n",
       "       'technician', 'other', 'administrator', 'entertainment',\n",
       "       'homemaker', 'executive', 'executive', 'student', 'administrator',\n",
       "       'student', 'executive', 'student', 'scientist', 'educator',\n",
       "       'other', 'other', 'other', 'healthcare', 'writer', 'programmer',\n",
       "       'technician', 'technician', 'educator', 'writer', 'student',\n",
       "       'programmer', 'marketing', 'writer', 'engineer', 'other',\n",
       "       'administrator', 'other', 'administrator', 'other', 'retired',\n",
       "       'salesman', 'librarian', 'educator', 'none', 'student', 'student',\n",
       "       'student', 'other', 'student', 'administrator', 'scientist',\n",
       "       'educator', 'student', 'other', 'engineer', 'administrator',\n",
       "       'executive', 'student', 'student', 'writer', 'student', 'student',\n",
       "       'executive', 'librarian', 'programmer', 'student', 'student',\n",
       "       'programmer', 'student', 'artist', 'marketing', 'administrator',\n",
       "       'engineer', 'engineer', 'student', 'administrator', 'other',\n",
       "       'technician', 'educator', 'programmer', 'student', 'educator',\n",
       "       'programmer', 'writer', 'other', 'writer', 'administrator',\n",
       "       'programmer', 'writer', 'administrator', 'administrator',\n",
       "       'educator', 'other', 'marketing', 'healthcare', 'salesman',\n",
       "       'marketing', 'other', 'educator', 'technician', 'student', 'other',\n",
       "       'other', 'other', 'student', 'librarian', 'administrator',\n",
       "       'student', 'engineer', 'librarian', 'artist', 'other', 'engineer',\n",
       "       'artist', 'engineer', 'librarian', 'writer', 'programmer', 'other',\n",
       "       'technician', 'writer', 'other', 'executive', 'artist', 'artist',\n",
       "       'student', 'entertainment', 'artist', 'doctor', 'writer',\n",
       "       'librarian', 'engineer', 'doctor', 'lawyer', 'student', 'engineer',\n",
       "       'student', 'technician', 'other', 'administrator', 'writer',\n",
       "       'student', 'librarian', 'marketing', 'administrator', 'educator',\n",
       "       'other', 'retired', 'student', 'executive', 'student',\n",
       "       'programmer', 'artist', 'other', 'scientist', 'programmer',\n",
       "       'student', 'student', 'executive', 'student', 'administrator',\n",
       "       'scientist', 'student', 'other', 'other', 'educator',\n",
       "       'administrator', 'student', 'marketing', 'engineer', 'librarian',\n",
       "       'engineer', 'other', 'student', 'student', 'scientist',\n",
       "       'technician', 'student', 'administrator', 'other', 'student',\n",
       "       'educator', 'librarian', 'writer', 'other', 'homemaker', 'other',\n",
       "       'retired', 'executive', 'artist', 'educator', 'student', 'other',\n",
       "       'librarian', 'other', 'librarian', 'educator', 'healthcare',\n",
       "       'writer', 'other', 'student', 'other', 'entertainment', 'engineer',\n",
       "       'student', 'scientist', 'other', 'artist', 'student',\n",
       "       'administrator', 'student', 'other', 'salesman', 'entertainment',\n",
       "       'programmer', 'student', 'scientist', 'scientist', 'educator',\n",
       "       'educator', 'student', 'engineer', 'doctor', 'other', 'educator',\n",
       "       'technician', 'student', 'administrator', 'student', 'librarian',\n",
       "       'student'], dtype=object)"
      ]
     },
     "execution_count": 40,
     "metadata": {},
     "output_type": "execute_result"
    }
   ],
   "source": [
    "# Print only the 'occupation' column from the users dataset.\n",
    "user['occupation'].values"
   ]
  },
  {
   "cell_type": "code",
   "execution_count": 41,
   "metadata": {
    "scrolled": true
   },
   "outputs": [
    {
     "data": {
      "text/plain": [
       "user_id\n",
       "1         technician\n",
       "2              other\n",
       "3             writer\n",
       "4         technician\n",
       "5              other\n",
       "           ...      \n",
       "939          student\n",
       "940    administrator\n",
       "941          student\n",
       "942        librarian\n",
       "943          student\n",
       "Name: occupation, Length: 943, dtype: object"
      ]
     },
     "execution_count": 41,
     "metadata": {},
     "output_type": "execute_result"
    }
   ],
   "source": [
    "user.occupation"
   ]
  },
  {
   "cell_type": "code",
   "execution_count": 43,
   "metadata": {},
   "outputs": [
    {
     "data": {
      "text/plain": [
       "21"
      ]
     },
     "execution_count": 43,
     "metadata": {},
     "output_type": "execute_result"
    }
   ],
   "source": [
    "# How many different occupations are present in the users dataset?\n",
    "user.occupation.nunique()"
   ]
  },
  {
   "cell_type": "code",
   "execution_count": 60,
   "metadata": {},
   "outputs": [
    {
     "data": {
      "text/plain": [
       "occupation\n",
       "student    196\n",
       "Name: count, dtype: int64"
      ]
     },
     "execution_count": 60,
     "metadata": {},
     "output_type": "execute_result"
    }
   ],
   "source": [
    "#What is the most frequent occupation in the users dataset?\n",
    "user.occupation.value_counts()[:1]"
   ]
  },
  {
   "cell_type": "code",
   "execution_count": 62,
   "metadata": {},
   "outputs": [
    {
     "data": {
      "text/plain": [
       "count    943.000000\n",
       "mean      34.051962\n",
       "std       12.192740\n",
       "min        7.000000\n",
       "25%       25.000000\n",
       "50%       31.000000\n",
       "75%       43.000000\n",
       "max       73.000000\n",
       "Name: age, dtype: float64"
      ]
     },
     "execution_count": 62,
     "metadata": {},
     "output_type": "execute_result"
    }
   ],
   "source": [
    "#Summarize the 'age' column in the users dataset.\n",
    "user.age.describe()"
   ]
  },
  {
   "cell_type": "code",
   "execution_count": 69,
   "metadata": {},
   "outputs": [
    {
     "data": {
      "text/html": [
       "<div>\n",
       "<style scoped>\n",
       "    .dataframe tbody tr th:only-of-type {\n",
       "        vertical-align: middle;\n",
       "    }\n",
       "\n",
       "    .dataframe tbody tr th {\n",
       "        vertical-align: top;\n",
       "    }\n",
       "\n",
       "    .dataframe thead th {\n",
       "        text-align: right;\n",
       "    }\n",
       "</style>\n",
       "<table border=\"1\" class=\"dataframe\">\n",
       "  <thead>\n",
       "    <tr style=\"text-align: right;\">\n",
       "      <th></th>\n",
       "      <th>age</th>\n",
       "      <th>gender</th>\n",
       "      <th>occupation</th>\n",
       "      <th>salary</th>\n",
       "    </tr>\n",
       "  </thead>\n",
       "  <tbody>\n",
       "    <tr>\n",
       "      <th>count</th>\n",
       "      <td>943.000000</td>\n",
       "      <td>943</td>\n",
       "      <td>943</td>\n",
       "      <td>943</td>\n",
       "    </tr>\n",
       "    <tr>\n",
       "      <th>unique</th>\n",
       "      <td>NaN</td>\n",
       "      <td>2</td>\n",
       "      <td>21</td>\n",
       "      <td>795</td>\n",
       "    </tr>\n",
       "    <tr>\n",
       "      <th>top</th>\n",
       "      <td>NaN</td>\n",
       "      <td>M</td>\n",
       "      <td>student</td>\n",
       "      <td>55414</td>\n",
       "    </tr>\n",
       "    <tr>\n",
       "      <th>freq</th>\n",
       "      <td>NaN</td>\n",
       "      <td>670</td>\n",
       "      <td>196</td>\n",
       "      <td>9</td>\n",
       "    </tr>\n",
       "    <tr>\n",
       "      <th>mean</th>\n",
       "      <td>34.051962</td>\n",
       "      <td>NaN</td>\n",
       "      <td>NaN</td>\n",
       "      <td>NaN</td>\n",
       "    </tr>\n",
       "    <tr>\n",
       "      <th>std</th>\n",
       "      <td>12.192740</td>\n",
       "      <td>NaN</td>\n",
       "      <td>NaN</td>\n",
       "      <td>NaN</td>\n",
       "    </tr>\n",
       "    <tr>\n",
       "      <th>min</th>\n",
       "      <td>7.000000</td>\n",
       "      <td>NaN</td>\n",
       "      <td>NaN</td>\n",
       "      <td>NaN</td>\n",
       "    </tr>\n",
       "    <tr>\n",
       "      <th>25%</th>\n",
       "      <td>25.000000</td>\n",
       "      <td>NaN</td>\n",
       "      <td>NaN</td>\n",
       "      <td>NaN</td>\n",
       "    </tr>\n",
       "    <tr>\n",
       "      <th>50%</th>\n",
       "      <td>31.000000</td>\n",
       "      <td>NaN</td>\n",
       "      <td>NaN</td>\n",
       "      <td>NaN</td>\n",
       "    </tr>\n",
       "    <tr>\n",
       "      <th>75%</th>\n",
       "      <td>43.000000</td>\n",
       "      <td>NaN</td>\n",
       "      <td>NaN</td>\n",
       "      <td>NaN</td>\n",
       "    </tr>\n",
       "    <tr>\n",
       "      <th>max</th>\n",
       "      <td>73.000000</td>\n",
       "      <td>NaN</td>\n",
       "      <td>NaN</td>\n",
       "      <td>NaN</td>\n",
       "    </tr>\n",
       "  </tbody>\n",
       "</table>\n",
       "</div>"
      ],
      "text/plain": [
       "               age gender occupation salary\n",
       "count   943.000000    943        943    943\n",
       "unique         NaN      2         21    795\n",
       "top            NaN      M    student  55414\n",
       "freq           NaN    670        196      9\n",
       "mean     34.051962    NaN        NaN    NaN\n",
       "std      12.192740    NaN        NaN    NaN\n",
       "min       7.000000    NaN        NaN    NaN\n",
       "25%      25.000000    NaN        NaN    NaN\n",
       "50%      31.000000    NaN        NaN    NaN\n",
       "75%      43.000000    NaN        NaN    NaN\n",
       "max      73.000000    NaN        NaN    NaN"
      ]
     },
     "execution_count": 69,
     "metadata": {},
     "output_type": "execute_result"
    }
   ],
   "source": [
    "# Summarize all the columns in the users dataset.\n",
    "user.describe(include='all')"
   ]
  },
  {
   "cell_type": "code",
   "execution_count": 66,
   "metadata": {},
   "outputs": [
    {
     "data": {
      "text/plain": [
       "count         943\n",
       "unique         21\n",
       "top       student\n",
       "freq          196\n",
       "Name: occupation, dtype: object"
      ]
     },
     "execution_count": 66,
     "metadata": {},
     "output_type": "execute_result"
    }
   ],
   "source": [
    "# Summarize only the 'occupation' column in the users dataset.\n",
    "user.occupation.describe()"
   ]
  },
  {
   "cell_type": "code",
   "execution_count": 68,
   "metadata": {},
   "outputs": [
    {
     "data": {
      "text/plain": [
       "34.05196182396607"
      ]
     },
     "execution_count": 68,
     "metadata": {},
     "output_type": "execute_result"
    }
   ],
   "source": [
    "# What is the mean age of users in the users dataset?\n",
    "user.age.mean()"
   ]
  },
  {
   "cell_type": "code",
   "execution_count": 112,
   "metadata": {},
   "outputs": [
    {
     "data": {
      "text/plain": [
       "[7, 10, 11, 66, 73]"
      ]
     },
     "execution_count": 112,
     "metadata": {},
     "output_type": "execute_result"
    }
   ],
   "source": [
    "import numpy as np\n",
    "# What is the age with the least occurrence in the users dataset\n",
    "a = user.groupby('age')[['age']].count()\n",
    "k = list(a[a['age']==1].index)\n",
    "k"
   ]
  },
  {
   "cell_type": "code",
   "execution_count": null,
   "metadata": {},
   "outputs": [],
   "source": []
  },
  {
   "cell_type": "code",
   "execution_count": null,
   "metadata": {},
   "outputs": [],
   "source": []
  },
  {
   "cell_type": "code",
   "execution_count": null,
   "metadata": {},
   "outputs": [],
   "source": []
  }
 ],
 "metadata": {
  "anaconda-cloud": {},
  "kernelspec": {
   "display_name": "Python 3 (ipykernel)",
   "language": "python",
   "name": "python3"
  },
  "language_info": {
   "codemirror_mode": {
    "name": "ipython",
    "version": 3
   },
   "file_extension": ".py",
   "mimetype": "text/x-python",
   "name": "python",
   "nbconvert_exporter": "python",
   "pygments_lexer": "ipython3",
   "version": "3.11.5"
  }
 },
 "nbformat": 4,
 "nbformat_minor": 1
}
